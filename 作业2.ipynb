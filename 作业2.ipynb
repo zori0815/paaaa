{
 "cells": [
  {
   "cell_type": "code",
   "execution_count": 50,
   "metadata": {},
   "outputs": [
    {
     "name": "stdout",
     "output_type": "stream",
     "text": [
      "[{'姓名': '许思勤', '学号': 'p221014505', 'Github仓库地址': 'https://github.com/qqliulian/liulianhao'}, {'姓名': '高娴', '学号': 'P221014587', 'Github仓库地址': 'https://github.com/gx530381/gxx'}, {'姓名': '周茂', '学号': 'P221014674', 'Github仓库地址': 'https://github.com/zzzzzmyou/1'}, {'姓名': '古颜', '学号': 'P221014641', 'Github仓库地址': 'https://github.com/luohuazhanbaiyi/111'}, {'姓名': '颜慈', '学号': 'P221014638', 'Github仓库地址': 'https://github.com/Yuxikkk/yyyc'}, {'姓名': '帕提古丽', '学号': 'P221014711', 'Github仓库地址': 'https://github.com/ptgl123/ptgl0000.git'}, {'姓名': '刘德鑫', '学号': 'P221014687', 'Github仓库地址': 'https://github.com/echo-2023chess/luxuriant.git'}, {'姓名': '阿依图提古丽·努尔买买提', '学号': 'P221016159', 'Github仓库地址': 'https://github.com/ayttgl/abc'}, {'姓名': '马晓琬', '学号': 'P221014487', 'Github仓库地址': 'https://github.com/abmxw/yori'}, {'姓名': '拉巴曲措', '学号': 'P221014494', 'Github仓库地址': 'https://github.com/rryy445566hh/tyujio9007'}, {'姓名': '秦文雅', '学号': 'P221014633', 'Github仓库地址': 'https://github.com/qinwenya/2017668014-qq.com'}, {'姓名': '   古丽妮尕尔', '学号': 'P221016162', 'Github仓库地址': 'https://github.com/3325517452/6841'}, {'姓名': '杨秀萱', '学号': 'P221014427', 'Github仓库地址': 'https://github.com/guirsnguise/wafagvg'}, {'姓名': '尼玛拉珍', '学号': 'P221014578', 'Github仓库地址': 'https://github.com/131708675/HOME'}, {'姓名': '李秋梅', '学号': 'P221014672', 'Github仓库地址': 'https://github.com/3053063553/pythonzuoye.git'}, {'姓名': '徐睿鲲', '学号': 'P221014520', 'Github仓库地址': 'https://github.com/huuggu/xuanxiu'}, {'姓名': '罗青云', '学号': 'P221014479', 'Github仓库地址': 'https://github.com/laoma12/home/commit/79ac562a2884e647ca06b2d71291cafb90672c8f'}, {'姓名': '徐艳丽', '学号': 'P221014516', 'Github仓库地址': 'https://github.com/Xuyanli-Hub/xuyanli'}, {'姓名': '林家宇·', '学号': 'P221014584', 'Github仓库地址': 'https://github.com/puishing/12345'}, {'姓名': '格珍', '学号': 'P221014664', 'Github仓库地址': 'https://github.com/defywgvucwhv/defywgvucwhv'}, {'姓名': '古颜', '学号': 'P221014641', 'Github仓库地址': 'https://github.com/luohuazhanbaiyi/hahaha'}, {'姓名': '周茂', '学号': 'P221014674', 'Github仓库地址': 'https://github.com/zzzzzmyou/zzzzzmyou1'}, {'姓名': '龙舒晴', '学号': 'P221014472', 'Github仓库地址': 'https://github.com/554108/lugetel'}, {'姓名': '张峰硕', '学号': 'p221014481', 'Github仓库地址': 'https://github.com/LitangGuailing/Litang.git'}, {'姓名': '单梅', '学号': 'P221014627', 'Github仓库地址': 'https://github.com/910318830/33'}, {'姓名': '李佳佳', '学号': 'P221014595', 'Github仓库地址': 'https://github.com/2012644838/homework'}, {'姓名': '拉巴曲措', '学号': 'P221014494', 'Github仓库地址': 'https://github.com/rryy445566hh/tyujio9007'}, {'姓名': '德丽巴尔·叶尔肯', '学号': 'P221016193', 'Github仓库地址': 'https://github.com/hulihutuao/dhomework'}, {'姓名': '蒙昱婕', '学号': 'P221014684', 'Github仓库地址': 'https://github.com/D5renge/mengyujie.git'}, {'姓名': '杜古尔加甫·莎仁图娅', '学号': 'P221014710', 'Github仓库地址': 'https://github.com/sharentuya/sharentuya.git'}, {'姓名': '张雨婷', '学号': 'P221014682', 'Github仓库地址': 'https://github.com/zythyszyq/hello.git'}, {'姓名': '李媛媛', '学号': 'P221014566', 'Github仓库地址': 'https://github.com/02Yyli/liy7uanyuan'}, {'姓名': '马君兰', '学号': 'P221014486', 'Github仓库地址': 'https://github.com/majunlan/aynnnnar'}, {'姓名': '姜雨廷', '学号': 'P221014653', 'Github仓库地址': 'https://github.com/Comlimen/Clementine'}, {'姓名': '李春阳', '学号': 'P221014716', 'Github仓库地址': 'https://github.com/edg7777777/edg7777777'}, {'姓名': '石文静', '学号': 'P221014712', 'Github仓库地址': 'https://github.com/wenjing999/wenjing'}, {'姓名': '古颜', '学号': 'P221014641', 'Github仓库地址': 'https://github.com/luohuazhanbaiyi/hahaha'}, {'姓名': '王倩', '学号': 'P221014474', 'Github仓库地址': 'https://github.com/lingjunji/statistic-2021'}, {'姓名': '韦亚琦', '学号': 'P221014597', 'Github仓库地址': 'https://github.com/weiyaqi1123/3289834600'}, {'姓名': '钟丽丽', '学号': 'P221014598', 'Github仓库地址': 'https://github.com/9zll/cat.git'}, {'姓名': '程超', '学号': 'P221014642', 'Github仓库地址': 'https://github.com/chengchao12/chao'}, {'姓名': '张骞月', '学号': 'P221014696', 'Github仓库地址': 'https://github.com/bbii00/bbii'}, {'姓名': '马小龙', '学号': 'p221014680', 'Github仓库地址': 'https://github.com/maxiao999/maxiao'}, {'姓名': '徐靖哲', '学号': 'P221014695', 'Github仓库地址': 'https://github.com/LiTangWang6/LiTang'}, {'姓名': '马心仪', '学号': 'P221014655', 'Github仓库地址': 'https://github.com/manshukesi/momo'}, {'姓名': '赵咪', '学号': 'P221014589', 'Github仓库地址': 'https://github.com/amor0613/7homework'}, {'姓名': '付竹', '学号': 'P221014482', 'Github仓库地址': 'https://github.com/yiyanglaurel/new-one'}, {'姓名': '莫崧晟', '学号': 'P221014683', 'Github仓库地址': 'https://github.com/mosongsheng/mm'}, {'姓名': '陈金玲', '学号': 'P221014689', 'Github仓库地址': 'https://github.com/Chenling2580/homework.git'}, {'姓名': '田旋', '学号': 'P221014650', 'Github仓库地址': 'https://github.com/2585615815/homework.git'}, {'姓名': '王佳陆', '学号': 'P221014700', 'Github仓库地址': 'https://gitee.com/lovewangyuan/lovewangyuan.git'}, {'姓名': '张穆紫', '学号': 'P221014693', 'Github仓库地址': 'https://github.com/1065953416/homework.git'}, {'姓名': '蓝苡榕', '学号': 'P221014511', 'Github仓库地址': 'https://github.com/lanyirongacyl/statistic'}, {'姓名': '李昱佳', '学号': 'P221014631', 'Github仓库地址': 'https://github.com/neodreamcity/nct2023'}, {'姓名': '德央', '学号': 'P221014580', 'Github仓库地址': 'https://github.com/638638/home'}, {'姓名': '付竹', '学号': 'P221014482', 'Github仓库地址': 'https://github.com/yiyanglaurel/new-one'}, {'姓名': '杜晓涵', '学号': 'P221014618', 'Github仓库地址': 'https://github.com/1223351431/AnnCLOUDS'}, {'姓名': '马心仪', '学号': 'P221014655', 'Github仓库地址': 'https://github.com/manshukesi/momo.git'}, {'姓名': '迪拉热·凯撒尔', '学号': 'P221014586', 'Github仓库地址': 'https://github.com/3031088667/supreme-broccoli'}, {'姓名': '李媛媛', '学号': 'P221014566', 'Github仓库地址': 'https://github.com/02Yyli/liy7uanyuan.git'}, {'姓名': '余静怡', '学号': 'P221014461', 'Github仓库地址': 'https://github.com/yujingyi11/kitty'}, {'姓名': '刘占森', '学号': 'P221014508', 'Github仓库地址': 'https://github.com/Anbnann/homework'}, {'姓名': '马君兰', '学号': 'P221014486', 'Github仓库地址': 'https://github.com/majunlan/aynnnar.git'}, {'姓名': '赵美亮', '学号': 'P221014502', 'Github仓库地址': ' https://github.com/zhaomeiliang/homework.git'}, {'姓名': '马晓琬', '学号': 'P221014487', 'Github仓库地址': 'https://github.com/abmxw/yori'}, {'姓名': '陈好', '学号': 'P221014490', 'Github仓库地址': 'https://github.com/vcvgv/vcvgv'}, {'姓名': '刘佳伊', '学号': 'P221014541', 'Github仓库地址': 'https://github.com/Katherine789/2023.8.30'}, {'姓名': '万栩恺', '学号': 'P221014515', 'Github仓库地址': 'https://github.com/522564718/van'}, {'姓名': '徐文佩', '学号': 'P221014478', 'Github仓库地址': 'https://github.com/nigudinzhen/nigudinzhen.git'}, {'姓名': '左日古丽白克', '学号': 'P221014539', 'Github仓库地址': 'https://github.com/zori0815/paaaa.git'}, {'姓名': '司诺', '学号': 'P220914024', 'Github仓库地址': 'https://github.com/OSBORRRN/SINOOO'}, {'姓名': '艾丽菲热·艾尔肯', '学号': 'P221014543', 'Github仓库地址': 'https://github.com/deeeeeeeeeer/alfira'}, {'姓名': '刘露', '学号': 'P221014513', 'Github仓库地址': 'https://github.com/Liuxiyayuan/liuchaoqian'}, {'姓名': '徐艳丽', '学号': 'P221014516', 'Github仓库地址': 'https://github.com/Xuyanli-Hub/xuyanli'}, {'姓名': '潘莹莹', '学号': 'P221014510', 'Github仓库地址': 'https://github.com/Penny39/panny.git'}, {'姓名': '张亚君', '学号': 'P221014446', 'Github仓库地址': 'https://github.com/zyj031214/zqlwx'}, {'姓名': '马枫羽', '学号': 'P221014542', 'Github仓库地址': 'https://github.com/MaFengyu/mfy'}, {'姓名': '许飞菲', '学号': 'P221014424', 'Github仓库地址': 'https://github.com/xffei/repos'}, {'姓名': '艾克丹', '学号': 'p221014452', 'Github仓库地址': 'https://github.com/akida2/AKIDA1'}, {'姓名': '张峰硕', '学号': 'P221014481', 'Github仓库地址': 'https://github.com/LitangGuailing/Litang.git'}, {'姓名': '罗青云', '学号': 'P221014479', 'Github仓库地址': 'https://github.com/laoma12/home'}, {'姓名': '余静怡', '学号': 'P221014461', 'Github仓库地址': 'https://github.com/yujingyi11/kitty'}, {'姓名': '罗朝婷', '学号': 'P221014430', 'Github仓库地址': 'https://github.com/zbnxhghg/zbnxhghg'}, {'姓名': '史竹然', '学号': 'P221014439', 'Github仓库地址': 'https://github.com/Lumen1015/Store-2023'}, {'姓名': '曾琳', '学号': 'P221014431', 'Github仓库地址': 'https://github.com/Lnyelnye/cautious-barnacle'}, {'姓名': '海雪', '学号': 'P221014419', 'Github仓库地址': 'https://github.com/shithiy/statistics-2023'}, {'姓名': '徐睿鲲', '学号': 'P221014520', 'Github仓库地址': 'https://github.com/huuggu/xuanxiu'}, {'姓名': '刘占森', '学号': 'P221014508', 'Github仓库地址': 'https://github.com/Anbnann/homework'}, {'姓名': '崔益广', '学号': 'P221014559', 'Github仓库地址': 'https://github.com/Anuibmlcu/cuizero'}, {'姓名': '吴娅蕾', '学号': 'P221014457', 'Github仓库地址': 'https://github.com/imAShiiiiiii/statistic-2023'}, {'姓名': '蓝苡榕', '学号': 'P221014511', 'Github仓库地址': 'https://github.com/lanyirongacyl/statistic'}]\n"
     ]
    }
   ],
   "source": [
    "import pandas as pd\n",
    "\n",
    "# 读取Excel文件\n",
    "原始数据 = R'000_《统计与数据分析》课程第一次作业收集_提交统计.xlsx'  \n",
    "工作表 = '提交清单'  # 替换为你要读取的工作表名称\n",
    "列名列表 = ['姓名', '学号', 'Github仓库地址']  # 替换为你要读取的列名列表\n",
    "\n",
    "# 读取指定列数据\n",
    "df = pd.read_excel(原始数据, sheet_name=工作表, usecols=列名列表)\n",
    "\n",
    "# 将数据转化为字典\n",
    "学生信息 = df.to_dict(orient='records')\n",
    "\n",
    "print(学生信息)\n"
   ]
  },
  {
   "cell_type": "code",
   "execution_count": 51,
   "metadata": {},
   "outputs": [],
   "source": [
    "for item in 学生信息:\n",
    "    if item[\"姓名\"] == \"左日古丽.白克\":\n",
    "        print(item[\"Github仓库地址\"])"
   ]
  },
  {
   "cell_type": "code",
   "execution_count": 52,
   "metadata": {},
   "outputs": [],
   "source": [
    "def get_github_url(student_id, student_list):\n",
    "    for student in student_list:\n",
    "        if student['学号'] == student_id:\n",
    "            return student['Github仓库地址']\n",
    "    return None"
   ]
  },
  {
   "cell_type": "code",
   "execution_count": 53,
   "metadata": {},
   "outputs": [
    {
     "data": {
      "text/plain": [
       "'https://github.com/zori0815/paaaa.git'"
      ]
     },
     "execution_count": 53,
     "metadata": {},
     "output_type": "execute_result"
    }
   ],
   "source": [
    "get_github_url('P221014539', 学生信息)"
   ]
  },
  {
   "cell_type": "code",
   "execution_count": 54,
   "metadata": {},
   "outputs": [],
   "source": [
    "import requests\n",
    "from datetime import datetime\n",
    "\n",
    "def get_push_count(repo_url):\n",
    "    # 构造API请求URL\n",
    "    api_url = repo_url.replace(\"https://github.com/\", \"https://api.github.com/repos/\") + \"/commits\"\n",
    "    # 发送API请求\n",
    "    response = requests.get(api_url,verify=False)\n",
    "    # 解析API响应\n",
    "    data = response.json()\n",
    "    # 初始化推送次数和日期\n",
    "    push_count = 0\n",
    "    push_date = None\n",
    "    # 遍历每个提交记录\n",
    "    for commit in data:\n",
    "        # 获取提交时间\n",
    "        commit_time = datetime.strptime(commit['commit']['committer']['date'], '%Y-%m-%dT%H:%M:%SZ')\n",
    "        # 判断是否为最近一次提交\n",
    "        if push_date is None or commit_time > push_date:\n",
    "            push_date = commit_time\n",
    "            push_count = 1\n",
    "        elif commit_time == push_date:\n",
    "            push_count += 1\n",
    "    # 返回推送次数和日期\n",
    "    return push_count, push_date.strftime(\"%Y-%m-%d\")\n"
   ]
  },
  {
   "cell_type": "code",
   "execution_count": 55,
   "metadata": {},
   "outputs": [],
   "source": [
    "import requests\n",
    "from datetime import datetime\n",
    "\n",
    "def get_push_time(repo_url):\n",
    "    # 构造API请求URL\n",
    "    api_url = repo_url.replace(\"https://github.com/\", \"https://api.github.com/repos/\") + \"/commits\"\n",
    "    # 发送API请求\n",
    "    response = requests.get(api_url,verify=False)\n",
    "    # 解析API响应\n",
    "    data = response.json()\n",
    "    # 初始化推送时间列表\n",
    "    push_times = []\n",
    "    # 遍历每个提交记录\n",
    "    for commit in data:\n",
    "        # 获取提交时间\n",
    "        commit_time = datetime.strptime(commit['commit']['committer']['date'], '%Y-%m-%dT%H:%M:%SZ')\n",
    "        # 将推送时间添加到列表中\n",
    "        push_times.append(commit_time)\n",
    "    # 返回推送时间列表\n",
    "    return push_times\n"
   ]
  },
  {
   "cell_type": "code",
   "execution_count": 56,
   "metadata": {},
   "outputs": [
    {
     "name": "stderr",
     "output_type": "stream",
     "text": [
      "C:\\Users\\无爱一身轻\\AppData\\Roaming\\Python\\Python38\\site-packages\\urllib3\\connectionpool.py:1095: InsecureRequestWarning: Unverified HTTPS request is being made to host 'api.github.com'. Adding certificate verification is strongly advised. See: https://urllib3.readthedocs.io/en/latest/advanced-usage.html#tls-warnings\n",
      "  warnings.warn(\n"
     ]
    },
    {
     "data": {
      "text/plain": [
       "(1, '2023-09-13')"
      ]
     },
     "execution_count": 56,
     "metadata": {},
     "output_type": "execute_result"
    }
   ],
   "source": [
    "get_push_count('https://github.com/zori0815/paaaa')"
   ]
  },
  {
   "cell_type": "code",
   "execution_count": 57,
   "metadata": {},
   "outputs": [
    {
     "name": "stderr",
     "output_type": "stream",
     "text": [
      "C:\\Users\\无爱一身轻\\AppData\\Roaming\\Python\\Python38\\site-packages\\urllib3\\connectionpool.py:1095: InsecureRequestWarning: Unverified HTTPS request is being made to host 'api.github.com'. Adding certificate verification is strongly advised. See: https://urllib3.readthedocs.io/en/latest/advanced-usage.html#tls-warnings\n",
      "  warnings.warn(\n"
     ]
    },
    {
     "data": {
      "text/plain": [
       "[datetime.datetime(2023, 9, 13, 12, 29, 16),\n",
       " datetime.datetime(2023, 9, 13, 12, 27, 30),\n",
       " datetime.datetime(2023, 9, 13, 12, 15, 44),\n",
       " datetime.datetime(2023, 9, 13, 7, 55, 1),\n",
       " datetime.datetime(2023, 9, 1, 14, 43, 41),\n",
       " datetime.datetime(2023, 9, 1, 9, 12, 58),\n",
       " datetime.datetime(2023, 8, 30, 15, 20, 13)]"
      ]
     },
     "execution_count": 57,
     "metadata": {},
     "output_type": "execute_result"
    }
   ],
   "source": [
    "get_push_time('https://github.com/zori0815/paaaa')"
   ]
  },
  {
   "cell_type": "code",
   "execution_count": 58,
   "metadata": {},
   "outputs": [
    {
     "name": "stderr",
     "output_type": "stream",
     "text": [
      "C:\\Users\\无爱一身轻\\AppData\\Roaming\\Python\\Python38\\site-packages\\urllib3\\connectionpool.py:1095: InsecureRequestWarning: Unverified HTTPS request is being made to host 'api.github.com'. Adding certificate verification is strongly advised. See: https://urllib3.readthedocs.io/en/latest/advanced-usage.html#tls-warnings\n",
      "  warnings.warn(\n"
     ]
    },
    {
     "data": {
      "text/plain": [
       "[datetime.datetime(2023, 9, 13, 12, 29, 16),\n",
       " datetime.datetime(2023, 9, 13, 12, 27, 30),\n",
       " datetime.datetime(2023, 9, 13, 12, 15, 44),\n",
       " datetime.datetime(2023, 9, 13, 7, 55, 1),\n",
       " datetime.datetime(2023, 9, 1, 14, 43, 41),\n",
       " datetime.datetime(2023, 9, 1, 9, 12, 58),\n",
       " datetime.datetime(2023, 8, 30, 15, 20, 13)]"
      ]
     },
     "execution_count": 58,
     "metadata": {},
     "output_type": "execute_result"
    }
   ],
   "source": [
    "get_push_time('https://github.com/zori0815/paaaa')"
   ]
  },
  {
   "cell_type": "code",
   "execution_count": 59,
   "metadata": {},
   "outputs": [
    {
     "name": "stdout",
     "output_type": "stream",
     "text": [
      "datetime1 is later than datetime2\n"
     ]
    }
   ],
   "source": [
    "from datetime import datetime  \n",
    "  \n",
    "# 创建两个datetime对象  \n",
    "datetime1 = datetime(2023, 9, 13, 12, 29, 16)  \n",
    "datetime2 = datetime(2023, 8, 30, 15, 20, 13)  \n",
    "  \n",
    "# 使用比较运算符比较两个datetime对象  \n",
    "if datetime1 < datetime2:  \n",
    "    print(\"datetime1 is earlier than datetime2\")  \n",
    "elif datetime1 == datetime2:  \n",
    "    print(\"datetime1 is the same as datetime2\")  \n",
    "else:  \n",
    "    print(\"datetime1 is later than datetime2\")"
   ]
  },
  {
   "cell_type": "code",
   "execution_count": 60,
   "metadata": {},
   "outputs": [
    {
     "name": "stdout",
     "output_type": "stream",
     "text": [
      "-14\n"
     ]
    }
   ],
   "source": [
    "from datetime import datetime, timedelta    \n",
    "  \n",
    "# 创建两个日期时间对象    \n",
    "date1 = datetime(2023, 9, 13, 12, 29, 16)    \n",
    "date2 = datetime(2023, 8, 30, 15, 20, 13)    \n",
    "  \n",
    "# 计算两个日期之间的差值    \n",
    "delta = date2 - date1  \n",
    "  \n",
    "# 输出差值  \n",
    "print(delta.days)"
   ]
  },
  {
   "cell_type": "code",
   "execution_count": 61,
   "metadata": {},
   "outputs": [],
   "source": [
    "def grade_first_assignment(student_id, repository_dict, scoring_function):  \n",
    "    \"\"\"  \n",
    "    Grades the first assignment of the repository corresponding to the given student ID.  \n",
    "  \n",
    "    :param student_id: The ID of the student to grade.  \n",
    "    :param repository_dict: A dictionary mapping student IDs to repository objects.  \n",
    "    :param scoring_function: A function that takes a repository and returns a score.  \n",
    "    :return: The score of the first assignment of the repository, or None if no such repository is found.  \n",
    "    \"\"\"  \n",
    "    # Check if the student ID is in the repository dictionary  \n",
    "    if student_id not in repository_dict:  \n",
    "        return None  \n",
    "  \n",
    "    # Get the repository for this student  \n",
    "    repository = repository_dict[student_id]  \n",
    "  \n",
    "    # Grade the first assignment using the scoring function  \n",
    "    return scoring_function(repository)"
   ]
  },
  {
   "cell_type": "code",
   "execution_count": 62,
   "metadata": {},
   "outputs": [],
   "source": [
    "def grade_first_assignment(student_id, repository_dict, scoring_function):  \n",
    "    \"\"\"  \n",
    "    Grades the first assignment of the repository corresponding to the given student ID.  \n",
    "  \n",
    "    :param student_id: The ID of the student to grade.  \n",
    "    :param repository_dict: A dictionary mapping student IDs to repository objects.  \n",
    "    :param scoring_function: A function that takes a repository and returns a score.  \n",
    "    :return: The score of the first assignment of the repository, or None if no such repository is found.  \n",
    "    \"\"\"  \n",
    "    # Check if the student ID is in the repository dictionary  \n",
    "    if student_id not in repository_dict:  \n",
    "        return None  \n",
    "  \n",
    "    # Get the repository for this student  \n",
    "    repository = repository_dict[student_id]  \n",
    "  \n",
    "    # Grade the first assignment using the scoring function  \n",
    "    return scoring_function(repository)"
   ]
  },
  {
   "cell_type": "code",
   "execution_count": 63,
   "metadata": {},
   "outputs": [],
   "source": [
    "def scoring_function(repository):  \n",
    "    # Some scoring logic here. For example, if repository.first_assignment is a string representing a program,   \n",
    "    # you might run the program and grade its output.   \n",
    "    # Or if it's a list of math problems, you might grade each one individually.  \n",
    "    ..."
   ]
  },
  {
   "cell_type": "code",
   "execution_count": 64,
   "metadata": {},
   "outputs": [],
   "source": [
    "def grade_first_assignment(student_id, repository_url):  \n",
    "    # 模拟仓库对象，根据实际情况替换为真实的仓库对象  \n",
    "    class Repository:  \n",
    "        def __init__(self, url):  \n",
    "            self.url = url  \n",
    "  \n",
    "    # 评分标准函数，根据给定的仓库对象返回分数  \n",
    "    def scoring_function(repository):  \n",
    "        # 按时按要求完成任务，得10分  \n",
    "        score = 10  \n",
    "  \n",
    "        # 检查仓库是否可以公开访问，如果无法公开访问，则减去4分  \n",
    "        if \"public\" not in repository.url:  \n",
    "            score -= 4  \n",
    "  \n",
    "        # 未按时提交，减去10分（这里假设仓库的提交时间为2023年9月13日12:27:30）  \n",
    "        submit_time = datetime.datetime(2023, 9, 13, 12, 27, 30)  \n",
    "        current_time = datetime.datetime.now()  \n",
    "        if current_time > submit_time:  \n",
    "            score -= 10  \n",
    "  \n",
    "        return score  \n",
    "  \n",
    "    # 检查学号是否在仓库字典中，如果不在则返回None  \n",
    "    if student_id not in repository_url:  \n",
    "        return None  \n",
    "  \n",
    "    # 获取对应学号的仓库对象  \n",
    "    repository = Repository(repository_url[student_id])  \n",
    "  \n",
    "    # 使用评分标准函数对仓库的第一次作业进行评分并返回分数  \n",
    "    return scoring_function(repository)"
   ]
  },
  {
   "cell_type": "code",
   "execution_count": 70,
   "metadata": {},
   "outputs": [
    {
     "ename": "AttributeError",
     "evalue": "type object 'datetime.datetime' has no attribute 'datetime'",
     "output_type": "error",
     "traceback": [
      "\u001b[1;31m---------------------------------------------------------------------------\u001b[0m",
      "\u001b[1;31mAttributeError\u001b[0m                            Traceback (most recent call last)",
      "\u001b[1;32mc:\\Users\\无爱一身轻\\Desktop\\paaaa\\作业2.ipynb 单元格 16\u001b[0m line \u001b[0;36m4\n\u001b[0;32m      <a href='vscode-notebook-cell:/c%3A/Users/%E6%97%A0%E7%88%B1%E4%B8%80%E8%BA%AB%E8%BD%BB/Desktop/paaaa/%E4%BD%9C%E4%B8%9A2.ipynb#X22sZmlsZQ%3D%3D?line=0'>1</a>\u001b[0m repository_url \u001b[39m=\u001b[39m {  \n\u001b[0;32m      <a href='vscode-notebook-cell:/c%3A/Users/%E6%97%A0%E7%88%B1%E4%B8%80%E8%BA%AB%E8%BD%BB/Desktop/paaaa/%E4%BD%9C%E4%B8%9A2.ipynb#X22sZmlsZQ%3D%3D?line=1'>2</a>\u001b[0m     \u001b[39m\"\u001b[39m\u001b[39mP221014539\u001b[39m\u001b[39m\"\u001b[39m: \u001b[39m\"\u001b[39m\u001b[39mhttps://github.com/zori0815/paaaa\u001b[39m\u001b[39m\"\u001b[39m  \n\u001b[0;32m      <a href='vscode-notebook-cell:/c%3A/Users/%E6%97%A0%E7%88%B1%E4%B8%80%E8%BA%AB%E8%BD%BB/Desktop/paaaa/%E4%BD%9C%E4%B8%9A2.ipynb#X22sZmlsZQ%3D%3D?line=2'>3</a>\u001b[0m }  \n\u001b[1;32m----> <a href='vscode-notebook-cell:/c%3A/Users/%E6%97%A0%E7%88%B1%E4%B8%80%E8%BA%AB%E8%BD%BB/Desktop/paaaa/%E4%BD%9C%E4%B8%9A2.ipynb#X22sZmlsZQ%3D%3D?line=3'>4</a>\u001b[0m score \u001b[39m=\u001b[39m grade_first_assignment(\u001b[39m\"\u001b[39;49m\u001b[39mP221014539\u001b[39;49m\u001b[39m\"\u001b[39;49m, repository_url)  \n\u001b[0;32m      <a href='vscode-notebook-cell:/c%3A/Users/%E6%97%A0%E7%88%B1%E4%B8%80%E8%BA%AB%E8%BD%BB/Desktop/paaaa/%E4%BD%9C%E4%B8%9A2.ipynb#X22sZmlsZQ%3D%3D?line=4'>5</a>\u001b[0m \u001b[39mprint\u001b[39m(\u001b[39m\"\u001b[39m\u001b[39m第一次作业成绩：\u001b[39m\u001b[39m\"\u001b[39m, score)\n",
      "\u001b[1;32mc:\\Users\\无爱一身轻\\Desktop\\paaaa\\作业2.ipynb 单元格 16\u001b[0m line \u001b[0;36m3\n\u001b[0;32m     <a href='vscode-notebook-cell:/c%3A/Users/%E6%97%A0%E7%88%B1%E4%B8%80%E8%BA%AB%E8%BD%BB/Desktop/paaaa/%E4%BD%9C%E4%B8%9A2.ipynb#X22sZmlsZQ%3D%3D?line=28'>29</a>\u001b[0m repository \u001b[39m=\u001b[39m Repository(repository_url[student_id])  \n\u001b[0;32m     <a href='vscode-notebook-cell:/c%3A/Users/%E6%97%A0%E7%88%B1%E4%B8%80%E8%BA%AB%E8%BD%BB/Desktop/paaaa/%E4%BD%9C%E4%B8%9A2.ipynb#X22sZmlsZQ%3D%3D?line=30'>31</a>\u001b[0m \u001b[39m# 使用评分标准函数对仓库的第一次作业进行评分并返回分数  \u001b[39;00m\n\u001b[1;32m---> <a href='vscode-notebook-cell:/c%3A/Users/%E6%97%A0%E7%88%B1%E4%B8%80%E8%BA%AB%E8%BD%BB/Desktop/paaaa/%E4%BD%9C%E4%B8%9A2.ipynb#X22sZmlsZQ%3D%3D?line=31'>32</a>\u001b[0m \u001b[39mreturn\u001b[39;00m scoring_function(repository)\n",
      "\u001b[1;32mc:\\Users\\无爱一身轻\\Desktop\\paaaa\\作业2.ipynb 单元格 16\u001b[0m line \u001b[0;36m1\n\u001b[0;32m     <a href='vscode-notebook-cell:/c%3A/Users/%E6%97%A0%E7%88%B1%E4%B8%80%E8%BA%AB%E8%BD%BB/Desktop/paaaa/%E4%BD%9C%E4%B8%9A2.ipynb#X22sZmlsZQ%3D%3D?line=13'>14</a>\u001b[0m     score \u001b[39m-\u001b[39m\u001b[39m=\u001b[39m \u001b[39m4\u001b[39m  \n\u001b[0;32m     <a href='vscode-notebook-cell:/c%3A/Users/%E6%97%A0%E7%88%B1%E4%B8%80%E8%BA%AB%E8%BD%BB/Desktop/paaaa/%E4%BD%9C%E4%B8%9A2.ipynb#X22sZmlsZQ%3D%3D?line=15'>16</a>\u001b[0m \u001b[39m# 未按时提交，减去10分（这里假设仓库的提交时间为2023年9月13日12:27:30）  \u001b[39;00m\n\u001b[1;32m---> <a href='vscode-notebook-cell:/c%3A/Users/%E6%97%A0%E7%88%B1%E4%B8%80%E8%BA%AB%E8%BD%BB/Desktop/paaaa/%E4%BD%9C%E4%B8%9A2.ipynb#X22sZmlsZQ%3D%3D?line=16'>17</a>\u001b[0m submit_time \u001b[39m=\u001b[39m datetime\u001b[39m.\u001b[39;49mdatetime(\u001b[39m2023\u001b[39m, \u001b[39m9\u001b[39m, \u001b[39m13\u001b[39m, \u001b[39m12\u001b[39m, \u001b[39m27\u001b[39m, \u001b[39m30\u001b[39m)  \n\u001b[0;32m     <a href='vscode-notebook-cell:/c%3A/Users/%E6%97%A0%E7%88%B1%E4%B8%80%E8%BA%AB%E8%BD%BB/Desktop/paaaa/%E4%BD%9C%E4%B8%9A2.ipynb#X22sZmlsZQ%3D%3D?line=17'>18</a>\u001b[0m current_time \u001b[39m=\u001b[39m datetime\u001b[39m.\u001b[39mdatetime\u001b[39m.\u001b[39mnow()  \n\u001b[0;32m     <a href='vscode-notebook-cell:/c%3A/Users/%E6%97%A0%E7%88%B1%E4%B8%80%E8%BA%AB%E8%BD%BB/Desktop/paaaa/%E4%BD%9C%E4%B8%9A2.ipynb#X22sZmlsZQ%3D%3D?line=18'>19</a>\u001b[0m \u001b[39mif\u001b[39;00m current_time \u001b[39m>\u001b[39m submit_time:  \n",
      "\u001b[1;31mAttributeError\u001b[0m: type object 'datetime.datetime' has no attribute 'datetime'"
     ]
    }
   ],
   "source": [
    "repository_url = {  \n",
    "    \"P221014539\": \"https://github.com/zori0815/paaaa\"  \n",
    "}  \n",
    "score = grade_first_assignment(\"P221014539\", repository_url)  \n",
    "print(\"第一次作业成绩：\", score)"
   ]
  },
  {
   "cell_type": "code",
   "execution_count": null,
   "metadata": {},
   "outputs": [
    {
     "name": "stdout",
     "output_type": "stream",
     "text": [
      "当前日期和时间： 2023-09-15 23:59:18.608189\n"
     ]
    }
   ],
   "source": [
    "import datetime  \n",
    "  \n",
    "# 获取当前日期和时间  \n",
    "current_datetime = datetime.datetime.now()  \n",
    "  \n",
    "# 输出结果  \n",
    "print(\"当前日期和时间：\", current_datetime)"
   ]
  },
  {
   "cell_type": "code",
   "execution_count": null,
   "metadata": {},
   "outputs": [],
   "source": [
    "import datetime  \n",
    "  \n",
    "submit_time = datetime.datetime(2023, 9, 13, 12, 27, 30)"
   ]
  },
  {
   "cell_type": "code",
   "execution_count": null,
   "metadata": {},
   "outputs": [],
   "source": [
    "from datetime import datetime  \n",
    "  \n",
    "submit_time = datetime(2023, 9, 13, 12, 27, 30)"
   ]
  },
  {
   "cell_type": "code",
   "execution_count": null,
   "metadata": {},
   "outputs": [
    {
     "name": "stdout",
     "output_type": "stream",
     "text": [
      "P221014539\n"
     ]
    }
   ],
   "source": [
    "def my_function(student_id):  \n",
    "    # 在这里，我只是简单地将学号返回，你可以根据需要修改这个函数  \n",
    "    return student_id  \n",
    "  \n",
    "# 调用函数，将学号作为参数传入  \n",
    "result = my_function(\"P221014539\")  \n",
    "  \n",
    "# 输出函数的返回值  \n",
    "print(result)"
   ]
  }
 ],
 "metadata": {
  "kernelspec": {
   "display_name": "Python 3",
   "language": "python",
   "name": "python3"
  },
  "language_info": {
   "codemirror_mode": {
    "name": "ipython",
    "version": 3
   },
   "file_extension": ".py",
   "mimetype": "text/x-python",
   "name": "python",
   "nbconvert_exporter": "python",
   "pygments_lexer": "ipython3",
   "version": "3.8.10"
  },
  "orig_nbformat": 4
 },
 "nbformat": 4,
 "nbformat_minor": 2
}
