{
 "cells": [
  {
   "cell_type": "code",
   "execution_count": 4,
   "metadata": {},
   "outputs": [
    {
     "ename": "ModuleNotFoundError",
     "evalue": "No module named 'pandas'",
     "output_type": "error",
     "traceback": [
      "\u001b[1;31m---------------------------------------------------------------------------\u001b[0m",
      "\u001b[1;31mModuleNotFoundError\u001b[0m                       Traceback (most recent call last)",
      "\u001b[1;32mc:\\Users\\无爱一身轻\\Desktop\\paaaa\\作业2.ipynb 单元格 1\u001b[0m line \u001b[0;36m1\n\u001b[1;32m----> <a href='vscode-notebook-cell:/c%3A/Users/%E6%97%A0%E7%88%B1%E4%B8%80%E8%BA%AB%E8%BD%BB/Desktop/paaaa/%E4%BD%9C%E4%B8%9A2.ipynb#W0sZmlsZQ%3D%3D?line=0'>1</a>\u001b[0m \u001b[39mimport\u001b[39;00m \u001b[39mpandas\u001b[39;00m \u001b[39mas\u001b[39;00m \u001b[39mpd\u001b[39;00m\n\u001b[0;32m      <a href='vscode-notebook-cell:/c%3A/Users/%E6%97%A0%E7%88%B1%E4%B8%80%E8%BA%AB%E8%BD%BB/Desktop/paaaa/%E4%BD%9C%E4%B8%9A2.ipynb#W0sZmlsZQ%3D%3D?line=2'>3</a>\u001b[0m \u001b[39m# 读取Excel文件\u001b[39;00m\n\u001b[0;32m      <a href='vscode-notebook-cell:/c%3A/Users/%E6%97%A0%E7%88%B1%E4%B8%80%E8%BA%AB%E8%BD%BB/Desktop/paaaa/%E4%BD%9C%E4%B8%9A2.ipynb#W0sZmlsZQ%3D%3D?line=3'>4</a>\u001b[0m 原始数据 \u001b[39m=\u001b[39m \u001b[39mR\u001b[39m\u001b[39m'\u001b[39m\u001b[39m000_《统计与数据分析》课程第一次作业收集_提交统计.xlsx\u001b[39m\u001b[39m'\u001b[39m  \n",
      "\u001b[1;31mModuleNotFoundError\u001b[0m: No module named 'pandas'"
     ]
    }
   ],
   "source": [
    "import pandas as pd\n",
    "\n",
    "# 读取Excel文件\n",
    "原始数据 = R'000_《统计与数据分析》课程第一次作业收集_提交统计.xlsx'  \n",
    "工作表 = '提交清单'  # 替换为你要读取的工作表名称\n",
    "列名列表 = ['姓名', '学号', 'Github仓库地址']  # 替换为你要读取的列名列表\n",
    "\n",
    "# 读取指定列数据\n",
    "df = pd.read_excel(原始数据, sheet_name=工作表, usecols=列名列表)\n",
    "\n",
    "# 将数据转化为字典\n",
    "学生信息 = df.to_dict(orient='records')\n",
    "\n",
    "print(学生信息)\n"
   ]
  },
  {
   "cell_type": "code",
   "execution_count": null,
   "metadata": {},
   "outputs": [],
   "source": [
    "for item in 学生信息:\n",
    "    if item[\"姓名\"] == \"吴娅蕾\":\n",
    "        print(item[\"Github仓库地址\"])"
   ]
  },
  {
   "cell_type": "code",
   "execution_count": null,
   "metadata": {},
   "outputs": [],
   "source": [
    "def get_github_url(student_id, student_list):\n",
    "    for student in student_list:\n",
    "        if student['学号'] == student_id:\n",
    "            return student['Github仓库地址']\n",
    "    return None"
   ]
  },
  {
   "cell_type": "code",
   "execution_count": null,
   "metadata": {},
   "outputs": [],
   "source": [
    "get_github_url('P221014511', 学生信息)"
   ]
  },
  {
   "cell_type": "code",
   "execution_count": null,
   "metadata": {},
   "outputs": [],
   "source": [
    "import requests\n",
    "from datetime import datetime\n",
    "\n",
    "def get_push_count(repo_url):\n",
    "    # 构造API请求URL\n",
    "    api_url = repo_url.replace(\"https://github.com/\", \"https://api.github.com/repos/\") + \"/commits\"\n",
    "    # 发送API请求\n",
    "    response = requests.get(api_url,verify=False)\n",
    "    # 解析API响应\n",
    "    data = response.json()\n",
    "    # 初始化推送次数和日期\n",
    "    push_count = 0\n",
    "    push_date = None\n",
    "    # 遍历每个提交记录\n",
    "    for commit in data:\n",
    "        # 获取提交时间\n",
    "        commit_time = datetime.strptime(commit['commit']['committer']['date'], '%Y-%m-%dT%H:%M:%SZ')\n",
    "        # 判断是否为最近一次提交\n",
    "        if push_date is None or commit_time > push_date:\n",
    "            push_date = commit_time\n",
    "            push_count = 1\n",
    "        elif commit_time == push_date:\n",
    "            push_count += 1\n",
    "    # 返回推送次数和日期\n",
    "    return push_count, push_date.strftime(\"%Y-%m-%d\")\n"
   ]
  },
  {
   "cell_type": "code",
   "execution_count": null,
   "metadata": {},
   "outputs": [
    {
     "ename": "ModuleNotFoundError",
     "evalue": "No module named 'requests'",
     "output_type": "error",
     "traceback": [
      "\u001b[1;31m---------------------------------------------------------------------------\u001b[0m",
      "\u001b[1;31mModuleNotFoundError\u001b[0m                       Traceback (most recent call last)",
      "\u001b[1;32mc:\\Users\\无爱一身轻\\Documents\\Tencent Files\\1668968243\\FileRecv\\作业2.ipynb 单元格 6\u001b[0m line \u001b[0;36m1\n\u001b[1;32m----> <a href='vscode-notebook-cell:/c%3A/Users/%E6%97%A0%E7%88%B1%E4%B8%80%E8%BA%AB%E8%BD%BB/Documents/Tencent%20Files/1668968243/FileRecv/%E4%BD%9C%E4%B8%9A2.ipynb#W5sZmlsZQ%3D%3D?line=0'>1</a>\u001b[0m \u001b[39mimport\u001b[39;00m \u001b[39mrequests\u001b[39;00m\n\u001b[0;32m      <a href='vscode-notebook-cell:/c%3A/Users/%E6%97%A0%E7%88%B1%E4%B8%80%E8%BA%AB%E8%BD%BB/Documents/Tencent%20Files/1668968243/FileRecv/%E4%BD%9C%E4%B8%9A2.ipynb#W5sZmlsZQ%3D%3D?line=1'>2</a>\u001b[0m \u001b[39mfrom\u001b[39;00m \u001b[39mdatetime\u001b[39;00m \u001b[39mimport\u001b[39;00m datetime\n\u001b[0;32m      <a href='vscode-notebook-cell:/c%3A/Users/%E6%97%A0%E7%88%B1%E4%B8%80%E8%BA%AB%E8%BD%BB/Documents/Tencent%20Files/1668968243/FileRecv/%E4%BD%9C%E4%B8%9A2.ipynb#W5sZmlsZQ%3D%3D?line=3'>4</a>\u001b[0m \u001b[39mdef\u001b[39;00m \u001b[39mget_push_time\u001b[39m(repo_url):\n\u001b[0;32m      <a href='vscode-notebook-cell:/c%3A/Users/%E6%97%A0%E7%88%B1%E4%B8%80%E8%BA%AB%E8%BD%BB/Documents/Tencent%20Files/1668968243/FileRecv/%E4%BD%9C%E4%B8%9A2.ipynb#W5sZmlsZQ%3D%3D?line=4'>5</a>\u001b[0m     \u001b[39m# 构造API请求URL\u001b[39;00m\n",
      "\u001b[1;31mModuleNotFoundError\u001b[0m: No module named 'requests'"
     ]
    }
   ],
   "source": [
    "import requests\n",
    "from datetime import datetime\n",
    "\n",
    "def get_push_time(repo_url):\n",
    "    # 构造API请求URL\n",
    "    api_url = repo_url.replace(\"https://github.com/\", \"https://api.github.com/repos/\") + \"/commits\"\n",
    "    # 发送API请求\n",
    "    response = requests.get(api_url,verify=False)\n",
    "    # 解析API响应\n",
    "    data = response.json()\n",
    "    # 初始化推送时间列表\n",
    "    push_times = []\n",
    "    # 遍历每个提交记录\n",
    "    for commit in data:\n",
    "        # 获取提交时间\n",
    "        commit_time = datetime.strptime(commit['commit']['committer']['date'], '%Y-%m-%dT%H:%M:%SZ')\n",
    "        # 将推送时间添加到列表中\n",
    "        push_times.append(commit_time)\n",
    "    # 返回推送时间列表\n",
    "    return push_times\n"
   ]
  },
  {
   "cell_type": "code",
   "execution_count": null,
   "metadata": {},
   "outputs": [],
   "source": [
    "get_push_count('https://github.com/lanyirongacyl/statistic')"
   ]
  },
  {
   "cell_type": "code",
   "execution_count": null,
   "metadata": {},
   "outputs": [],
   "source": [
    "get_push_time('https://github.com/yangjh-xbmu/statistic-2023-2')"
   ]
  },
  {
   "cell_type": "code",
   "execution_count": null,
   "metadata": {},
   "outputs": [],
   "source": [
    "get_push_time('https://github.com/yangjh-xbmu/ai')"
   ]
  }
 ],
 "metadata": {
  "kernelspec": {
   "display_name": "Python 3",
   "language": "python",
   "name": "python3"
  },
  "language_info": {
   "codemirror_mode": {
    "name": "ipython",
    "version": 3
   },
   "file_extension": ".py",
   "mimetype": "text/x-python",
   "name": "python",
   "nbconvert_exporter": "python",
   "pygments_lexer": "ipython3",
   "version": "3.11.5"
  },
  "orig_nbformat": 4
 },
 "nbformat": 4,
 "nbformat_minor": 2
}
