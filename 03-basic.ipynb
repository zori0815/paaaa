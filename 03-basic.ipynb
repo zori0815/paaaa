{
 "cells": [
  {
   "cell_type": "code",
   "execution_count": 10,
   "metadata": {},
   "outputs": [],
   "source": [
    "student_info = [ \n",
    "    {'name': 'Alice', 'student_id': '20230001', 'github_repo': 'alice'},  \n",
    "    {'name': 'Bob', 'student_id': '20230002', 'github_repo': 'bob'},  \n",
    "    {'name': 'Charlie', 'student_id': '20230003', 'github_repo': 'charlie'},  \n",
    "    {'name': 'David', 'student_id': '20230004', 'github_repo': 'david'},  \n",
    "    {'name': 'Eve', 'student_id': '20230005', 'github_repo': 'eve'},  \n",
    "    {'name': 'Frank', 'student_id': '20230006', 'github_repo': 'frank'},  \n",
    "    {'name': 'Grace', 'student_id': '20230007', 'github_repo': 'grace'},  \n",
    "    {'name': 'Henry', 'student_id': '20230008', 'github_repo': 'henry'},  \n",
    "    {'name': 'Isaac', 'student_id': '20230009', 'github_repo': 'isaac'},  \n",
    "    {'name': 'John', 'student_id': '20230010', 'github_repo': 'john'}  ]\n",
    "\n",
    "students=[]\n",
    "student=[]\n",
    "target_name='Eva'\n",
    "for student in students:\n",
    "  if student['姓名']==target_name:\n",
    "    print(student['github仓库地址'])\n"
   ]
  },
  {
   "cell_type": "code",
   "execution_count": 11,
   "metadata": {},
   "outputs": [
    {
     "name": "stdout",
     "output_type": "stream",
     "text": [
      "['github_repo']\n"
     ]
    }
   ],
   "source": [
    "target_name='Eva'\n",
    "target_github_urls=['github_repo']\n",
    "\n",
    "for student in student:\n",
    "    if student['姓名']==target_name:\n",
    "        target_github_urls.append(student['github_repo'])\n",
    "\n",
    "\n",
    "\n",
    "print(target_github_urls)   \n",
    "       \n",
    "\n"
   ]
  },
  {
   "cell_type": "code",
   "execution_count": 12,
   "metadata": {},
   "outputs": [
    {
     "name": "stdout",
     "output_type": "stream",
     "text": [
      "None\n"
     ]
    }
   ],
   "source": [
    "def get_repo_name2(name,data):\n",
    "    for i in data:\n",
    "        if i['姓名']==name:\n",
    "            return i['github_repo']\n",
    "print(get_repo_name2('Eve',students))\n",
    "        \n"
   ]
  }
 ],
 "metadata": {
  "kernelspec": {
   "display_name": "Python 3",
   "language": "python",
   "name": "python3"
  },
  "language_info": {
   "codemirror_mode": {
    "name": "ipython",
    "version": 3
   },
   "file_extension": ".py",
   "mimetype": "text/x-python",
   "name": "python",
   "nbconvert_exporter": "python",
   "pygments_lexer": "ipython3",
   "version": "3.11.5"
  },
  "orig_nbformat": 4
 },
 "nbformat": 4,
 "nbformat_minor": 2
}
